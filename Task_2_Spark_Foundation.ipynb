{
  "nbformat": 4,
  "nbformat_minor": 0,
  "metadata": {
    "colab": {
      "name": "Task 2 - Spark Foundation.ipynb",
      "provenance": [],
      "collapsed_sections": [],
      "authorship_tag": "ABX9TyOF4BOYrr4WNxANH0Zz6Vcf"
    },
    "kernelspec": {
      "name": "python3",
      "display_name": "Python 3"
    }
  },
  "cells": [
    {
      "cell_type": "markdown",
      "metadata": {
        "id": "ypfMtR2FXgFy"
      },
      "source": [
        "# **NAME : SUMANTH NAYAK**\n",
        "\n",
        "#**TASK 2 : TO EXPLORE SUPERVISED MACHINE LEARNING**\n",
        "\n",
        "#**OBJECTIVE:PREDICTED SCORE IF A STUDENT STUDIES 9.25 HRS A DAY** \n"
      ]
    },
    {
      "cell_type": "markdown",
      "metadata": {
        "id": "sEXvGM-VZyjz"
      },
      "source": [
        "  Regression analysis is a powerful statistical method that allows us to examine the relationhip between two or more variables. While there are many types of regression analysis, at their core we all examine is the influence of one or more independent variables on a dependent variable. In the tast#2 data set, the dependent variable is Score of the students and the independent variable is the Hours the students study. The objective of our analysis is to determine and predict the score of the student who studies 9.25 hrs."
      ]
    },
    {
      "cell_type": "markdown",
      "metadata": {
        "id": "WoM7wP8iYj7T"
      },
      "source": [
        "#**1. IMPORTING THE LIBRARIES**"
      ]
    },
    {
      "cell_type": "markdown",
      "metadata": {
        "id": "LrLxuRCT2NE1"
      },
      "source": [
        ""
      ]
    },
    {
      "cell_type": "code",
      "metadata": {
        "id": "khtFvqMsYriL"
      },
      "source": [
        "import pandas as pd \n",
        "import math \n",
        "import numpy as np \n",
        "from sklearn import linear_model \n",
        "import seaborn as sns \n",
        "import pandas.testing as tm \n",
        "import matplotlib.pyplot as plt"
      ],
      "execution_count": null,
      "outputs": []
    },
    {
      "cell_type": "markdown",
      "metadata": {
        "id": "McdVssE-alpL"
      },
      "source": [
        "These libraries are powerful to perform any computations, fit a model and provide relevant data visualisation.\n",
        "\n",
        "---\n",
        "\n",
        "\n",
        "\n"
      ]
    },
    {
      "cell_type": "markdown",
      "metadata": {
        "id": "WKvW6MhcZEqp"
      },
      "source": [
        "#**2. UPLOADING THE DATA SET**"
      ]
    },
    {
      "cell_type": "code",
      "metadata": {
        "id": "_7p8CUO7ZLtI"
      },
      "source": [
        "df=pd.read_csv('http://bit.ly/w-data')"
      ],
      "execution_count": null,
      "outputs": []
    },
    {
      "cell_type": "markdown",
      "metadata": {
        "id": "0_iyor25ZlQd"
      },
      "source": [
        "#**3. CHECKING THE HEAD AND TAIL**"
      ]
    },
    {
      "cell_type": "code",
      "metadata": {
        "id": "a_D1IL6-ZYdV",
        "outputId": "9e58daf7-f42d-43f6-de99-aea4560d4796",
        "colab": {
          "base_uri": "https://localhost:8080/",
          "height": 195
        }
      },
      "source": [
        "df.head()"
      ],
      "execution_count": null,
      "outputs": [
        {
          "output_type": "execute_result",
          "data": {
            "text/html": [
              "<div>\n",
              "<style scoped>\n",
              "    .dataframe tbody tr th:only-of-type {\n",
              "        vertical-align: middle;\n",
              "    }\n",
              "\n",
              "    .dataframe tbody tr th {\n",
              "        vertical-align: top;\n",
              "    }\n",
              "\n",
              "    .dataframe thead th {\n",
              "        text-align: right;\n",
              "    }\n",
              "</style>\n",
              "<table border=\"1\" class=\"dataframe\">\n",
              "  <thead>\n",
              "    <tr style=\"text-align: right;\">\n",
              "      <th></th>\n",
              "      <th>Hours</th>\n",
              "      <th>Scores</th>\n",
              "    </tr>\n",
              "  </thead>\n",
              "  <tbody>\n",
              "    <tr>\n",
              "      <th>0</th>\n",
              "      <td>2.5</td>\n",
              "      <td>21</td>\n",
              "    </tr>\n",
              "    <tr>\n",
              "      <th>1</th>\n",
              "      <td>5.1</td>\n",
              "      <td>47</td>\n",
              "    </tr>\n",
              "    <tr>\n",
              "      <th>2</th>\n",
              "      <td>3.2</td>\n",
              "      <td>27</td>\n",
              "    </tr>\n",
              "    <tr>\n",
              "      <th>3</th>\n",
              "      <td>8.5</td>\n",
              "      <td>75</td>\n",
              "    </tr>\n",
              "    <tr>\n",
              "      <th>4</th>\n",
              "      <td>3.5</td>\n",
              "      <td>30</td>\n",
              "    </tr>\n",
              "  </tbody>\n",
              "</table>\n",
              "</div>"
            ],
            "text/plain": [
              "   Hours  Scores\n",
              "0    2.5      21\n",
              "1    5.1      47\n",
              "2    3.2      27\n",
              "3    8.5      75\n",
              "4    3.5      30"
            ]
          },
          "metadata": {
            "tags": []
          },
          "execution_count": 106
        }
      ]
    },
    {
      "cell_type": "code",
      "metadata": {
        "id": "XAZWVbWcZbeM",
        "outputId": "be8beda8-bc84-45ae-e665-a4cfb2c34262",
        "colab": {
          "base_uri": "https://localhost:8080/",
          "height": 195
        }
      },
      "source": [
        "df.tail()"
      ],
      "execution_count": null,
      "outputs": [
        {
          "output_type": "execute_result",
          "data": {
            "text/html": [
              "<div>\n",
              "<style scoped>\n",
              "    .dataframe tbody tr th:only-of-type {\n",
              "        vertical-align: middle;\n",
              "    }\n",
              "\n",
              "    .dataframe tbody tr th {\n",
              "        vertical-align: top;\n",
              "    }\n",
              "\n",
              "    .dataframe thead th {\n",
              "        text-align: right;\n",
              "    }\n",
              "</style>\n",
              "<table border=\"1\" class=\"dataframe\">\n",
              "  <thead>\n",
              "    <tr style=\"text-align: right;\">\n",
              "      <th></th>\n",
              "      <th>Hours</th>\n",
              "      <th>Scores</th>\n",
              "    </tr>\n",
              "  </thead>\n",
              "  <tbody>\n",
              "    <tr>\n",
              "      <th>20</th>\n",
              "      <td>2.7</td>\n",
              "      <td>30</td>\n",
              "    </tr>\n",
              "    <tr>\n",
              "      <th>21</th>\n",
              "      <td>4.8</td>\n",
              "      <td>54</td>\n",
              "    </tr>\n",
              "    <tr>\n",
              "      <th>22</th>\n",
              "      <td>3.8</td>\n",
              "      <td>35</td>\n",
              "    </tr>\n",
              "    <tr>\n",
              "      <th>23</th>\n",
              "      <td>6.9</td>\n",
              "      <td>76</td>\n",
              "    </tr>\n",
              "    <tr>\n",
              "      <th>24</th>\n",
              "      <td>7.8</td>\n",
              "      <td>86</td>\n",
              "    </tr>\n",
              "  </tbody>\n",
              "</table>\n",
              "</div>"
            ],
            "text/plain": [
              "    Hours  Scores\n",
              "20    2.7      30\n",
              "21    4.8      54\n",
              "22    3.8      35\n",
              "23    6.9      76\n",
              "24    7.8      86"
            ]
          },
          "metadata": {
            "tags": []
          },
          "execution_count": 107
        }
      ]
    },
    {
      "cell_type": "code",
      "metadata": {
        "id": "70ONx9bKZew8",
        "outputId": "8869df31-2ca5-4066-a1c3-a55df61db8f5",
        "colab": {
          "base_uri": "https://localhost:8080/",
          "height": 454
        }
      },
      "source": [
        "df.info # Looking at the whole data set information"
      ],
      "execution_count": null,
      "outputs": [
        {
          "output_type": "execute_result",
          "data": {
            "text/plain": [
              "<bound method DataFrame.info of     Hours  Scores\n",
              "0     2.5      21\n",
              "1     5.1      47\n",
              "2     3.2      27\n",
              "3     8.5      75\n",
              "4     3.5      30\n",
              "5     1.5      20\n",
              "6     9.2      88\n",
              "7     5.5      60\n",
              "8     8.3      81\n",
              "9     2.7      25\n",
              "10    7.7      85\n",
              "11    5.9      62\n",
              "12    4.5      41\n",
              "13    3.3      42\n",
              "14    1.1      17\n",
              "15    8.9      95\n",
              "16    2.5      30\n",
              "17    1.9      24\n",
              "18    6.1      67\n",
              "19    7.4      69\n",
              "20    2.7      30\n",
              "21    4.8      54\n",
              "22    3.8      35\n",
              "23    6.9      76\n",
              "24    7.8      86>"
            ]
          },
          "metadata": {
            "tags": []
          },
          "execution_count": 108
        }
      ]
    },
    {
      "cell_type": "markdown",
      "metadata": {
        "id": "3dZkU1EUZyjn"
      },
      "source": [
        "#**4. CHECKING THE DATA TYPE OF THE VARIABLES**"
      ]
    },
    {
      "cell_type": "code",
      "metadata": {
        "id": "cG2UOw-wZ3XK",
        "outputId": "a07fc432-b4a2-4b7f-b00c-acbf88649c4c",
        "colab": {
          "base_uri": "https://localhost:8080/",
          "height": 67
        }
      },
      "source": [
        "df.dtypes # Looking for unknown data types"
      ],
      "execution_count": null,
      "outputs": [
        {
          "output_type": "execute_result",
          "data": {
            "text/plain": [
              "Hours     float64\n",
              "Scores      int64\n",
              "dtype: object"
            ]
          },
          "metadata": {
            "tags": []
          },
          "execution_count": 109
        }
      ]
    },
    {
      "cell_type": "markdown",
      "metadata": {
        "id": "IxIV3k3RaKWQ"
      },
      "source": [
        "#**5. CHECKING FOR MISSING VALUES**"
      ]
    },
    {
      "cell_type": "code",
      "metadata": {
        "id": "v2zdGAsYaOdz",
        "outputId": "0164517b-4554-4662-c62a-5aa2f67a604a",
        "colab": {
          "base_uri": "https://localhost:8080/",
          "height": 67
        }
      },
      "source": [
        "df.isnull().sum() # Checking for null values"
      ],
      "execution_count": null,
      "outputs": [
        {
          "output_type": "execute_result",
          "data": {
            "text/plain": [
              "Hours     0\n",
              "Scores    0\n",
              "dtype: int64"
            ]
          },
          "metadata": {
            "tags": []
          },
          "execution_count": 149
        }
      ]
    },
    {
      "cell_type": "markdown",
      "metadata": {
        "id": "Q6eiijoobDuM"
      },
      "source": [
        "During any analysis it becomes very important for an analyst to check for any non-zero values or any special characters or anything which is irrelavant entry within the data set"
      ]
    },
    {
      "cell_type": "markdown",
      "metadata": {
        "id": "dN_jfiPzahlS"
      },
      "source": [
        "#**6. CHECKING BASIC ATTRIBUTES**"
      ]
    },
    {
      "cell_type": "code",
      "metadata": {
        "id": "G-ExqcrFajts",
        "outputId": "4f5cd91a-4bed-43bb-ff3e-8d10b7d730d2",
        "colab": {
          "base_uri": "https://localhost:8080/",
          "height": 284
        }
      },
      "source": [
        "df.describe() "
      ],
      "execution_count": null,
      "outputs": [
        {
          "output_type": "execute_result",
          "data": {
            "text/html": [
              "<div>\n",
              "<style scoped>\n",
              "    .dataframe tbody tr th:only-of-type {\n",
              "        vertical-align: middle;\n",
              "    }\n",
              "\n",
              "    .dataframe tbody tr th {\n",
              "        vertical-align: top;\n",
              "    }\n",
              "\n",
              "    .dataframe thead th {\n",
              "        text-align: right;\n",
              "    }\n",
              "</style>\n",
              "<table border=\"1\" class=\"dataframe\">\n",
              "  <thead>\n",
              "    <tr style=\"text-align: right;\">\n",
              "      <th></th>\n",
              "      <th>Hours</th>\n",
              "      <th>Scores</th>\n",
              "    </tr>\n",
              "  </thead>\n",
              "  <tbody>\n",
              "    <tr>\n",
              "      <th>count</th>\n",
              "      <td>25.000000</td>\n",
              "      <td>25.000000</td>\n",
              "    </tr>\n",
              "    <tr>\n",
              "      <th>mean</th>\n",
              "      <td>5.012000</td>\n",
              "      <td>51.480000</td>\n",
              "    </tr>\n",
              "    <tr>\n",
              "      <th>std</th>\n",
              "      <td>2.525094</td>\n",
              "      <td>25.286887</td>\n",
              "    </tr>\n",
              "    <tr>\n",
              "      <th>min</th>\n",
              "      <td>1.100000</td>\n",
              "      <td>17.000000</td>\n",
              "    </tr>\n",
              "    <tr>\n",
              "      <th>25%</th>\n",
              "      <td>2.700000</td>\n",
              "      <td>30.000000</td>\n",
              "    </tr>\n",
              "    <tr>\n",
              "      <th>50%</th>\n",
              "      <td>4.800000</td>\n",
              "      <td>47.000000</td>\n",
              "    </tr>\n",
              "    <tr>\n",
              "      <th>75%</th>\n",
              "      <td>7.400000</td>\n",
              "      <td>75.000000</td>\n",
              "    </tr>\n",
              "    <tr>\n",
              "      <th>max</th>\n",
              "      <td>9.200000</td>\n",
              "      <td>95.000000</td>\n",
              "    </tr>\n",
              "  </tbody>\n",
              "</table>\n",
              "</div>"
            ],
            "text/plain": [
              "           Hours     Scores\n",
              "count  25.000000  25.000000\n",
              "mean    5.012000  51.480000\n",
              "std     2.525094  25.286887\n",
              "min     1.100000  17.000000\n",
              "25%     2.700000  30.000000\n",
              "50%     4.800000  47.000000\n",
              "75%     7.400000  75.000000\n",
              "max     9.200000  95.000000"
            ]
          },
          "metadata": {
            "tags": []
          },
          "execution_count": 136
        }
      ]
    },
    {
      "cell_type": "markdown",
      "metadata": {
        "id": "-kLDt871TYBJ"
      },
      "source": [
        "Compare mean and 50% (2nd quartile / Median) and check for variation. The values within the variables are normally distributed if the gap is less"
      ]
    },
    {
      "cell_type": "markdown",
      "metadata": {
        "id": "mvRpanKWbGLt"
      },
      "source": [
        "#**7. CORRELATION BETWEEN HOURS AND SCORES**"
      ]
    },
    {
      "cell_type": "code",
      "metadata": {
        "id": "c4RMFMPa87KO"
      },
      "source": [
        ""
      ],
      "execution_count": null,
      "outputs": []
    },
    {
      "cell_type": "code",
      "metadata": {
        "id": "ALhLTPZ_bJd1",
        "outputId": "283186ef-7622-4fc8-9e82-35258f6ad0c1",
        "colab": {
          "base_uri": "https://localhost:8080/",
          "height": 286
        }
      },
      "source": [
        "correlation = df.corr()\n",
        "sns.heatmap(correlation, cmap='plasma', annot=True)"
      ],
      "execution_count": null,
      "outputs": [
        {
          "output_type": "execute_result",
          "data": {
            "text/plain": [
              "<matplotlib.axes._subplots.AxesSubplot at 0x7ff567b18898>"
            ]
          },
          "metadata": {
            "tags": []
          },
          "execution_count": 112
        },
        {
          "output_type": "display_data",
          "data": {
            "image/png": "[encoded data removed]",
            "text/plain": [
              "<Figure size 432x288 with 2 Axes>"
            ]
          },
          "metadata": {
            "tags": [],
            "needs_background": "light"
          }
        }
      ]
    },
    {
      "cell_type": "markdown",
      "metadata": {
        "id": "fCcwfEGKc1jG"
      },
      "source": [
        "The above chart clearly indicates there exists a high correlation between Hours and Scores and the correlation is positive, since the value is close to 1."
      ]
    },
    {
      "cell_type": "markdown",
      "metadata": {
        "id": "95h33V62dBOm"
      },
      "source": [
        "#**8. Regression Plot Between Hours and Scores**"
      ]
    },
    {
      "cell_type": "code",
      "metadata": {
        "id": "eIj4Aw14dJsr",
        "outputId": "c3ff09cf-4eaa-488b-bf54-a099b2d22ce2",
        "colab": {
          "base_uri": "https://localhost:8080/",
          "height": 279
        }
      },
      "source": [
        "sns.regplot(x = 'Hours', y = 'Scores', data = df) \n",
        "plt.show()"
      ],
      "execution_count": null,
      "outputs": [
        {
          "output_type": "display_data",
          "data": {
            "image/png": "[encoded data removed]",
            "text/plain": [
              "<Figure size 432x288 with 1 Axes>"
            ]
          },
          "metadata": {
            "tags": [],
            "needs_background": "light"
          }
        }
      ]
    },
    {
      "cell_type": "markdown",
      "metadata": {
        "id": "cK8X0HDLfcGo"
      },
      "source": [
        "The above chart indicated there is a positive linear repationship between the number of Hours a student studies and scores obtained. This allows us to fit the regression model."
      ]
    },
    {
      "cell_type": "markdown",
      "metadata": {
        "id": "LriU8lWpfozb"
      },
      "source": [
        "#**9. TRAINING THE DATA**"
      ]
    },
    {
      "cell_type": "code",
      "metadata": {
        "id": "vUgfsTlMf0hF"
      },
      "source": [
        "x = df[['Hours']]\n",
        "y = df['Scores']\n",
        "\n",
        "from sklearn.model_selection import train_test_split\n",
        "x_train,x_test,y_train,y_test = train_test_split(x,y,test_size=0.3, random_state=45)"
      ],
      "execution_count": null,
      "outputs": []
    },
    {
      "cell_type": "markdown",
      "metadata": {
        "id": "AOVCfLHmbpTC"
      },
      "source": [
        "The best way to predict the result is training 70% of the dataset and testing with the remaining 30%. This provides accuracy within the model and is expected to give less error."
      ]
    },
    {
      "cell_type": "code",
      "metadata": {
        "id": "deqBaujWakpR",
        "outputId": "ccda365b-105c-48f7-ce3d-794d1a00be19",
        "colab": {
          "base_uri": "https://localhost:8080/",
          "height": 34
        }
      },
      "source": [
        "reg = LinearRegression()\n",
        "reg.fit(x_train,y_train)\n",
        "print('training complete')"
      ],
      "execution_count": null,
      "outputs": [
        {
          "output_type": "stream",
          "text": [
            "training complete\n"
          ],
          "name": "stdout"
        }
      ]
    },
    {
      "cell_type": "markdown",
      "metadata": {
        "id": "abjwDgjZUKk6"
      },
      "source": [
        "We can also find the regression equation for the train data set"
      ]
    },
    {
      "cell_type": "code",
      "metadata": {
        "id": "oG4wR-tJURtp",
        "outputId": "fdb7c906-96d6-4701-a35a-c6092bb479c4",
        "colab": {
          "base_uri": "https://localhost:8080/",
          "height": 34
        }
      },
      "source": [
        "reg.intercept_"
      ],
      "execution_count": null,
      "outputs": [
        {
          "output_type": "execute_result",
          "data": {
            "text/plain": [
              "1.2162641848495213"
            ]
          },
          "metadata": {
            "tags": []
          },
          "execution_count": 148
        }
      ]
    },
    {
      "cell_type": "code",
      "metadata": {
        "id": "WnIi5chAUqdB",
        "outputId": "1c9b5c9b-f194-45d3-af80-f2f7cfbe143d",
        "colab": {
          "base_uri": "https://localhost:8080/",
          "height": 34
        }
      },
      "source": [
        "reg.coef_"
      ],
      "execution_count": null,
      "outputs": [
        {
          "output_type": "execute_result",
          "data": {
            "text/plain": [
              "array([9.81092414])"
            ]
          },
          "metadata": {
            "tags": []
          },
          "execution_count": 147
        }
      ]
    },
    {
      "cell_type": "markdown",
      "metadata": {
        "id": "UlsduAUZUwMl"
      },
      "source": [
        "From the above intercet and slope, the regression equation is **y = 1.216 x + 9.81**\n"
      ]
    },
    {
      "cell_type": "code",
      "metadata": {
        "id": "XYF2FSAYZhoX",
        "outputId": "0530c606-9b25-4a0d-a806-32b6e6a84fa8",
        "colab": {
          "base_uri": "https://localhost:8080/",
          "height": 202
        }
      },
      "source": [
        "print(x_test)\n",
        "y_pred = reg.predict(x_test)\n",
        "y_pred\n"
      ],
      "execution_count": null,
      "outputs": [
        {
          "output_type": "stream",
          "text": [
            "    Hours\n",
            "16    2.5\n",
            "20    2.7\n",
            "13    3.3\n",
            "10    7.7\n",
            "17    1.9\n",
            "24    7.8\n",
            "22    3.8\n",
            "19    7.4\n"
          ],
          "name": "stdout"
        },
        {
          "output_type": "execute_result",
          "data": {
            "text/plain": [
              "array([25.74357453, 27.70575935, 33.59231384, 76.76038004, 19.85702004,\n",
              "       77.74147245, 38.4977759 , 73.8171028 ])"
            ]
          },
          "metadata": {
            "tags": []
          },
          "execution_count": 132
        }
      ]
    },
    {
      "cell_type": "markdown",
      "metadata": {
        "id": "CxnAJEKylt3q"
      },
      "source": [
        "#**10. Comparing Actual VS Predicted Scores**\n"
      ]
    },
    {
      "cell_type": "code",
      "metadata": {
        "id": "viXOWtU3IkaM",
        "outputId": "c68899c8-cd35-4824-8fa5-36a74d7cd0c0",
        "colab": {
          "base_uri": "https://localhost:8080/",
          "height": 284
        }
      },
      "source": [
        "df1 = pd.DataFrame({'Actual': y_test, 'Predicted': y_pred})  \n",
        "df1"
      ],
      "execution_count": null,
      "outputs": [
        {
          "output_type": "execute_result",
          "data": {
            "text/html": [
              "<div>\n",
              "<style scoped>\n",
              "    .dataframe tbody tr th:only-of-type {\n",
              "        vertical-align: middle;\n",
              "    }\n",
              "\n",
              "    .dataframe tbody tr th {\n",
              "        vertical-align: top;\n",
              "    }\n",
              "\n",
              "    .dataframe thead th {\n",
              "        text-align: right;\n",
              "    }\n",
              "</style>\n",
              "<table border=\"1\" class=\"dataframe\">\n",
              "  <thead>\n",
              "    <tr style=\"text-align: right;\">\n",
              "      <th></th>\n",
              "      <th>Actual</th>\n",
              "      <th>Predicted</th>\n",
              "    </tr>\n",
              "  </thead>\n",
              "  <tbody>\n",
              "    <tr>\n",
              "      <th>16</th>\n",
              "      <td>30</td>\n",
              "      <td>25.743575</td>\n",
              "    </tr>\n",
              "    <tr>\n",
              "      <th>20</th>\n",
              "      <td>30</td>\n",
              "      <td>27.705759</td>\n",
              "    </tr>\n",
              "    <tr>\n",
              "      <th>13</th>\n",
              "      <td>42</td>\n",
              "      <td>33.592314</td>\n",
              "    </tr>\n",
              "    <tr>\n",
              "      <th>10</th>\n",
              "      <td>85</td>\n",
              "      <td>76.760380</td>\n",
              "    </tr>\n",
              "    <tr>\n",
              "      <th>17</th>\n",
              "      <td>24</td>\n",
              "      <td>19.857020</td>\n",
              "    </tr>\n",
              "    <tr>\n",
              "      <th>24</th>\n",
              "      <td>86</td>\n",
              "      <td>77.741472</td>\n",
              "    </tr>\n",
              "    <tr>\n",
              "      <th>22</th>\n",
              "      <td>35</td>\n",
              "      <td>38.497776</td>\n",
              "    </tr>\n",
              "    <tr>\n",
              "      <th>19</th>\n",
              "      <td>69</td>\n",
              "      <td>73.817103</td>\n",
              "    </tr>\n",
              "  </tbody>\n",
              "</table>\n",
              "</div>"
            ],
            "text/plain": [
              "    Actual  Predicted\n",
              "16      30  25.743575\n",
              "20      30  27.705759\n",
              "13      42  33.592314\n",
              "10      85  76.760380\n",
              "17      24  19.857020\n",
              "24      86  77.741472\n",
              "22      35  38.497776\n",
              "19      69  73.817103"
            ]
          },
          "metadata": {
            "tags": []
          },
          "execution_count": 133
        }
      ]
    },
    {
      "cell_type": "markdown",
      "metadata": {
        "id": "f3etCBgjcFOX"
      },
      "source": [
        "We observe there is little difference between the actual and the predicted Scores. This supports the argument that the predicted model is the best fit and we may proceed with predicting our objective."
      ]
    },
    {
      "cell_type": "markdown",
      "metadata": {
        "id": "bGo8SzwQX8mR"
      },
      "source": [
        "#**11. PREDICTING THE SCORE**"
      ]
    },
    {
      "cell_type": "code",
      "metadata": {
        "id": "sRcsBYljKcbG",
        "outputId": "838b5fb9-f840-4a98-e644-4ae1e3aef152",
        "colab": {
          "base_uri": "https://localhost:8080/",
          "height": 67
        }
      },
      "source": [
        "hours = float(input('Enter the total number of hours studied : '))\n",
        "cls_predict = reg.predict([[hours]])\n",
        "print(\"No of Hours = {}\".format(hours))\n",
        "print(\"Predicted Scores for studing total number of hours = {:.3f}%\".format(cls_predict[0]))"
      ],
      "execution_count": null,
      "outputs": [
        {
          "output_type": "stream",
          "text": [
            "Enter the total number of hours studied : 9.25\n",
            "No of Hours = 9.25\n",
            "Predicted Scores for studing total number of hours = 91.967%\n"
          ],
          "name": "stdout"
        }
      ]
    },
    {
      "cell_type": "markdown",
      "metadata": {
        "id": "zcyUfTypcaOL"
      },
      "source": [
        "#RESULT :  PREDICTED SCORE IF A STUDENT STUDIES 9.25 HRS A DAY IS 91.967%"
      ]
    }
  ]
}